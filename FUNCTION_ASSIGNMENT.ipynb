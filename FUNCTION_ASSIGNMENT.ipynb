{
  "nbformat": 4,
  "nbformat_minor": 0,
  "metadata": {
    "colab": {
      "provenance": []
    },
    "kernelspec": {
      "name": "python3",
      "display_name": "Python 3"
    },
    "language_info": {
      "name": "python"
    }
  },
  "cells": [
    {
      "cell_type": "markdown",
      "source": [
        "# THEORY QUESTION'**S**"
      ],
      "metadata": {
        "id": "aJv4OvJq5IrE"
      }
    },
    {
      "cell_type": "markdown",
      "source": [
        "#1. What is the difference between a function and a method in Python?\n",
        " -> The primary difference between a function and a method in Python lies in their association and usage:\n",
        "\n",
        "* Function: A function is a standalone block of reusable code. It is not tied to any specific object and can be called independently. Functions are defined using the def keyword, like this:\n",
        "\"def greet():\n",
        "    print(\"Hello!\")\"\n",
        "* Method : A method is a function that is associated with an object and is defind within a class. Methods operate on the object they belong to, and they implicity take the object itself as their first argument (often named self for instance methods)\n",
        "\"for example:\n",
        "\n",
        "class Greeter:\n",
        "    def greet(self):\n",
        "        print(\"Hello!\")\n",
        "\n",
        "greeter = Greeter()\n",
        "greeter.greet()  # Calling the method\"\n",
        "\n"
      ],
      "metadata": {
        "id": "jm3DnW1V5xgl"
      }
    },
    {
      "cell_type": "markdown",
      "source": [
        "#2. explain the concept of function arguments and parameters in python.\n",
        "->\n",
        "* Parameters: These are the placeholders defined in a function's declaration.They specify the input values that the function expects when it is called.\n",
        "for example:\n",
        "\n",
        "def greet(name):\n",
        "    print(f\"Hello, {name}!\")\n",
        "\n",
        "* Arguments: These are the actual values provided to the function when it is called.\n",
        "for instance: greet(\"Aditya\")\n",
        "\n"
      ],
      "metadata": {
        "id": "ztBXVu7RAgIW"
      }
    },
    {
      "cell_type": "markdown",
      "source": [
        "#3. What are the different ways to define and call a function in Python?\n",
        "->\n",
        "* Defining Functions:  You can create functions using def , lambdas for anonymous functions, and generator functions with `yield `.\n",
        "\n",
        "* Calling Functions: Functions are called using positional arguments, keyword arguments, lambdas, or generator mechanisms like `next()` .\n"
      ],
      "metadata": {
        "id": "nV-06tUDFLfX"
      }
    },
    {
      "cell_type": "markdown",
      "source": [
        "#4. What is the purpose of the `return` statement in a python function?\n",
        "-> The `return` statement in python is used to:\n",
        "* Send a value back to the function's caller.\n",
        "* Immediately terminate the function's execution.\n",
        "\n",
        "for example:\n",
        "\n",
        "def square(num):\n",
        "    return num ** 2\n",
        "\n",
        "result = square(5) #output: 25  "
      ],
      "metadata": {
        "id": "5duuH0AqKNo6"
      }
    },
    {
      "cell_type": "markdown",
      "source": [
        "#5. What are iterators in python and how do they differ from iterables?\n",
        "-> AN iterator in Python is an object that allows iteration over a sequence of elements, one at a time. It implements two main methods:` __iter__()`(which returns the iterator object itself) and `__next__()` (which retrieves the next element in the sequence). Iterators are used to traverse elements without needing an index.\n",
        "\n",
        "An iterable, on the other hand, is any object that can provide an iterator. Examples of iterables include lists, tuples, dictionaries, and strings. These objects have an `__iter__()` method that returns an iterator."
      ],
      "metadata": {
        "id": "vPi1FRCkNzzh"
      }
    },
    {
      "cell_type": "markdown",
      "source": [
        "#6. Explain the concept of generators in Python and how they are defined.\n",
        "->  \n",
        "Generators in Python are special functions that produce a sequence of values lazily, meaning they generate values one at a time as needed, instead of all at once. This makes them memory-efficient, especially when working with large datasets. They are defined using the def keyword and the `yield` statement."
      ],
      "metadata": {
        "id": "O2V1Oin7N06z"
      }
    },
    {
      "cell_type": "markdown",
      "source": [
        "#7. What are the advantages of using generators over regular functions?\n",
        "-> The advantages of using generators over regular functions in Python are:\n",
        "\n",
        "1. Memory Efficiency: Generate values on-the-fly without storing\n",
        "   the entire dataset in memory.\n",
        "\n",
        "2. Lazy Evaluation: Produce values only when needed, improving\n",
        "  performance.\n",
        "\n",
        "3. Simpler Iterators: Automatically manage state using `yield`.\n",
        "\n",
        "4. Infinite Sequences: Handle infinite or large sequences without running out of memory."
      ],
      "metadata": {
        "id": "8usYyni9N1M5"
      }
    },
    {
      "cell_type": "markdown",
      "source": [
        "#8. What is a lambda function in Python and when is it typically used?\n",
        "-> A lambda function in Python is an anonymous, single-expression function defined with the lambda keyword. Syntax: lambda arguments: `expression`.\n",
        "\n",
        " # When Used:\n",
        "\n",
        "\n",
        "* For short, throwaway functions.\n",
        "\n",
        "* With higher-order functions like map(), filter(), and reduce().\n",
        "\n",
        "* For custom logic in sorting or key functions.\n",
        "\n",
        "Example:\n",
        "\n",
        "square = lambda x: x ** 2\n",
        "\n",
        "print(square(5))  # Output: 25\n"
      ],
      "metadata": {
        "id": "YBQaC6QnN1gR"
      }
    },
    {
      "cell_type": "markdown",
      "source": [
        "#9. Explain the purpose and usage of the `map()` function in Python.\n",
        "\n",
        "-> The `map()` function in Python applies a given function to each item in an iterable, returning an iterator with the results. It is often used for data transformations.\n",
        "Example:\n",
        "\n",
        "numbers = [1, 2, 3, 4]\n",
        "squared = map(lambda x: x ** 2, numbers)\n",
        "print(list(squared))  # Output: [1, 4, 9, 16]\n"
      ],
      "metadata": {
        "id": "bzE8PR87N14Y"
      }
    },
    {
      "cell_type": "markdown",
      "source": [
        "#10. What is the difference between `map()`, `reduce()`, and `filter()` functions in Python?\n",
        "->\n",
        "* map(): Applies a function to every item in an iterable and returns an iterator with the transformed results.\n",
        "\n",
        "* reduce(): Applies a function cumulatively to items in an iterable, reducing them to a single value.\n",
        "\n",
        "* filter(): Filters items in an iterable based on a condition, returning only those that meet it."
      ],
      "metadata": {
        "id": "wivd2J9nWzUI"
      }
    },
    {
      "cell_type": "markdown",
      "source": [
        "#11. Using pen & Paper write the internal mechanism for sum operation using  reduce function on this given list: [47,11,42,13];\n",
        "-> Using the reduce() function to sum the list [47, 11, 42, 13]:\n",
        "\n",
        "1. Start with the first two elements: 47 + 11 = 58.\n",
        "\n",
        "2. Add the result to the next element: 58 + 42 = 100.\n",
        "\n",
        "3. Add the result to the final element: 100 + 13 = 113.\n",
        "  \n",
        "  The sum is 113 ."
      ],
      "metadata": {
        "id": "DCfAwnVKW0Kr"
      }
    },
    {
      "cell_type": "markdown",
      "source": [
        "#PRACTICAL QUESTION'**S**"
      ],
      "metadata": {
        "id": "opJHEO6UZmKR"
      }
    },
    {
      "cell_type": "code",
      "source": [
        "#1. Write a python function that takes a list of numbers as input and returns the sum of all even numbers in the list\n",
        "#->\n",
        "\n",
        "def sum_of_even_numbers(numbers):\n",
        "    even_sum = sum(num for num in numbers if num % 2 == 0)\n",
        "    return even_sum\n",
        "\n",
        "# Example usage\n",
        "number_list = [1, 2, 3, 4, 5, 6]\n",
        "print(sum_of_even_numbers(number_list))\n"
      ],
      "metadata": {
        "colab": {
          "base_uri": "https://localhost:8080/"
        },
        "id": "BYmlfy3SX8Nj",
        "outputId": "89738398-54c6-478c-d92c-b927cf5d320f"
      },
      "execution_count": null,
      "outputs": [
        {
          "output_type": "stream",
          "name": "stdout",
          "text": [
            "12\n"
          ]
        }
      ]
    },
    {
      "cell_type": "code",
      "source": [
        "#2. Create a Python function that accepts a string and returns the reverse of that string.\n",
        "#->\n",
        "\n",
        "def reverse_string(input_string):\n",
        "    return input_string[::-1]\n",
        "\n",
        "# Example usage\n",
        "original_string = \"Hello, Aditya!\"\n",
        "reverse_string = reverse_string(original_string)\n",
        "print(reverse_string)"
      ],
      "metadata": {
        "id": "pElGZ6SNaFpD",
        "colab": {
          "base_uri": "https://localhost:8080/"
        },
        "outputId": "a21a7c23-c195-4cee-8dc4-95d0cb07c032"
      },
      "execution_count": null,
      "outputs": [
        {
          "output_type": "stream",
          "name": "stdout",
          "text": [
            "!aytidA ,olleH\n"
          ]
        }
      ]
    },
    {
      "cell_type": "code",
      "source": [
        "#3. Implement a Python function that takes a list of integers and returns a new list containing the squares of each number.\n",
        "#->\n",
        "def square_numbers(numbers):\n",
        "    return [num ** 2 for num in numbers]\n",
        "\n",
        "# Examole usage\n",
        "input_list =[2, 7, 9, 4]\n",
        "output_list = square_numbers(input_list)\n",
        "print(output_list)"
      ],
      "metadata": {
        "colab": {
          "base_uri": "https://localhost:8080/"
        },
        "id": "gUmT_cJpEQei",
        "outputId": "a5e3eb51-d857-4d95-e1c0-57bc4af54d47"
      },
      "execution_count": null,
      "outputs": [
        {
          "output_type": "stream",
          "name": "stdout",
          "text": [
            "[4, 49, 81, 16]\n"
          ]
        }
      ]
    },
    {
      "cell_type": "code",
      "source": [
        "#4. Write a python function that checks if a given number is prime or not form 1 to 200.\n",
        "#->\n",
        "def is_prime(number):\n",
        "    if number < 2:  # Numbers less than 2 are not prime\n",
        "        return False\n",
        "    for i in range(2, int(number ** 0.5) + 1):  # Check divisibility up to the square root\n",
        "        if number % i == 0:\n",
        "            return False\n",
        "    return True\n",
        "\n",
        "# Example usage: Checking prime numbers between 1 and 200\n",
        "for num in range(1, 201):\n",
        "    if is_prime(num):\n",
        "        print(num, \"is a prime number\")\n"
      ],
      "metadata": {
        "colab": {
          "base_uri": "https://localhost:8080/"
        },
        "id": "ecb7eQtVI4WQ",
        "outputId": "0cbd664e-eb49-44b6-b6e2-075525c977a4"
      },
      "execution_count": null,
      "outputs": [
        {
          "output_type": "stream",
          "name": "stdout",
          "text": [
            "2 is a prime number\n",
            "3 is a prime number\n",
            "5 is a prime number\n",
            "7 is a prime number\n",
            "11 is a prime number\n",
            "13 is a prime number\n",
            "17 is a prime number\n",
            "19 is a prime number\n",
            "23 is a prime number\n",
            "29 is a prime number\n",
            "31 is a prime number\n",
            "37 is a prime number\n",
            "41 is a prime number\n",
            "43 is a prime number\n",
            "47 is a prime number\n",
            "53 is a prime number\n",
            "59 is a prime number\n",
            "61 is a prime number\n",
            "67 is a prime number\n",
            "71 is a prime number\n",
            "73 is a prime number\n",
            "79 is a prime number\n",
            "83 is a prime number\n",
            "89 is a prime number\n",
            "97 is a prime number\n",
            "101 is a prime number\n",
            "103 is a prime number\n",
            "107 is a prime number\n",
            "109 is a prime number\n",
            "113 is a prime number\n",
            "127 is a prime number\n",
            "131 is a prime number\n",
            "137 is a prime number\n",
            "139 is a prime number\n",
            "149 is a prime number\n",
            "151 is a prime number\n",
            "157 is a prime number\n",
            "163 is a prime number\n",
            "167 is a prime number\n",
            "173 is a prime number\n",
            "179 is a prime number\n",
            "181 is a prime number\n",
            "191 is a prime number\n",
            "193 is a prime number\n",
            "197 is a prime number\n",
            "199 is a prime number\n"
          ]
        }
      ]
    },
    {
      "cell_type": "code",
      "source": [
        "#5. Create an iterator class in Python that generates the Fibonacci sequence up to a specified number of terms.\n",
        "#->\n",
        "\n",
        "class FibonacciIterator:\n",
        "    def __init__(self, num_terms):\n",
        "        self.num_terms = num_terms\n",
        "        self.current = 0\n",
        "        self.next = 1\n",
        "        self.count = 0\n",
        "\n",
        "    def __iter__(self):\n",
        "        return self\n",
        "\n",
        "    def __next__(self):\n",
        "        if self.count >= self.num_terms:\n",
        "            raise StopIteration\n",
        "        result = self.current\n",
        "        self.current, self.next = self.next, self.current + self.next\n",
        "        self.count += 1\n",
        "        return result\n",
        "\n",
        "# Example usage\n",
        "fib_iterator = FibonacciIterator(10)  # Generate first 10 Fibonacci numbers\n",
        "for fib_number in fib_iterator:\n",
        "    print(fib_number)\n"
      ],
      "metadata": {
        "colab": {
          "base_uri": "https://localhost:8080/"
        },
        "id": "SSgj4s5DO2fd",
        "outputId": "c955e39f-4715-41e9-d3cd-fee53cf64f34"
      },
      "execution_count": null,
      "outputs": [
        {
          "output_type": "stream",
          "name": "stdout",
          "text": [
            "0\n",
            "1\n",
            "1\n",
            "2\n",
            "3\n",
            "5\n",
            "8\n",
            "13\n",
            "21\n",
            "34\n"
          ]
        }
      ]
    },
    {
      "cell_type": "code",
      "source": [
        "#6. Write a generator function in python that yields the power of 2 up to a given exponent.\n",
        "#->\n",
        "\n",
        "def powers_of_2(max_exponent):\n",
        "    for exponent in range(max_exponent + 1):  # Include max_exponent\n",
        "        yield 2 ** exponent\n",
        "\n",
        "# Example usage\n",
        "for power in powers_of_2(5):  # Generate powers of 2 up to 2^5\n",
        "    print(power)\n"
      ],
      "metadata": {
        "colab": {
          "base_uri": "https://localhost:8080/"
        },
        "id": "KXuqHv3vPRIv",
        "outputId": "128116cc-9fa6-45a7-fa98-90f49cf80107"
      },
      "execution_count": null,
      "outputs": [
        {
          "output_type": "stream",
          "name": "stdout",
          "text": [
            "1\n",
            "2\n",
            "4\n",
            "8\n",
            "16\n",
            "32\n"
          ]
        }
      ]
    },
    {
      "cell_type": "code",
      "source": [
        "#7. Create an iterator class in Python that generates the Fibonacci sequence up to a specified number of terms.\n",
        "#->\n",
        "\n",
        "class FibonacciIterator:\n",
        "    def __init__(self, num_terms):\n",
        "        self.num_terms = num_terms\n",
        "        self.current = 0\n",
        "        self.next = 1\n",
        "        self.count = 0\n",
        "\n",
        "    def __iter__(self):\n",
        "        return self\n",
        "\n",
        "    def __next__(self):\n",
        "        if self.count >= self.num_terms:\n",
        "            raise StopIteration\n",
        "        result = self.current\n",
        "        self.current, self.next = self.next, self.current + self.next\n",
        "        self.count += 1\n",
        "        return result\n",
        "\n",
        "# Example usage\n",
        "fib_iterator = FibonacciIterator(10)  # Generate first 10 Fibonacci numbers\n",
        "for fib_number in fib_iterator:\n",
        "    print(fib_number)\n"
      ],
      "metadata": {
        "colab": {
          "base_uri": "https://localhost:8080/"
        },
        "id": "Ev6ZbYsRRn7A",
        "outputId": "9ce6fc95-4006-4eed-8cb6-7c5a23d48548"
      },
      "execution_count": null,
      "outputs": [
        {
          "output_type": "stream",
          "name": "stdout",
          "text": [
            "0\n",
            "1\n",
            "1\n",
            "2\n",
            "3\n",
            "5\n",
            "8\n",
            "13\n",
            "21\n",
            "34\n"
          ]
        }
      ]
    },
    {
      "cell_type": "code",
      "source": [
        "#8. Implement a generator function that reads a file line by line and yields each line as a string.\n",
        "#->\n",
        "def read_file_line_by_line(file_path):\n",
        "    \"\"\"\n",
        "    Reads a file line by line and yields each line as a string.\n",
        "\n",
        "    Args:\n",
        "        file_path (str): The path to the file.\n",
        "\n",
        "    Yields:\n",
        "        str: Each line of the file.\n",
        "    \"\"\"\n",
        "    try:\n",
        "        with open(file_path, 'r') as file:\n",
        "            for line in file:\n",
        "                yield line.strip()  # Strip newline characters\n",
        "    except FileNotFoundError:\n",
        "        print(f\"Error: File not found at path: {file_path}\")"
      ],
      "metadata": {
        "colab": {
          "base_uri": "https://localhost:8080/"
        },
        "id": "QkjPnfmaSKde",
        "outputId": "87bbc8bf-f01b-4179-b89f-445c53368b14"
      },
      "execution_count": null,
      "outputs": [
        {
          "output_type": "stream",
          "name": "stdout",
          "text": [
            "Error: File not found at path: example.txt\n"
          ]
        }
      ]
    },
    {
      "cell_type": "code",
      "source": [
        "#9. Use a lambda function in Python to sort a list of tuples based on the second element of each tuple.\n",
        "#->\n",
        "# Example list of tuples\n",
        "tuples_list = [(1, 3), (4, 1), (2, 2), (5, 4)]\n",
        "\n",
        "# Sorting using a lambda function\n",
        "sorted_list = sorted(tuples_list, key=lambda x: x[1])\n",
        "\n",
        "# Output the sorted list\n",
        "print(sorted_list)\n"
      ],
      "metadata": {
        "colab": {
          "base_uri": "https://localhost:8080/"
        },
        "id": "Yq8GbzRsVJq-",
        "outputId": "071d24bf-9e5f-4b4e-f86a-b19b914de70e"
      },
      "execution_count": null,
      "outputs": [
        {
          "output_type": "stream",
          "name": "stdout",
          "text": [
            "[(4, 1), (2, 2), (1, 3), (5, 4)]\n"
          ]
        }
      ]
    },
    {
      "cell_type": "code",
      "source": [
        "#10. Write a Python program that uses `map()` to convert a list of temperatures from Celsius to Fahrenheit.\n",
        "#->\n",
        "# Function to convert Celsius to Fahrenheit\n",
        "def celsius_to_fahrenheit(celsius_temp):\n",
        "    return (celsius_temp * 9/5) + 32\n",
        "\n",
        "# List of temperatures in Celsius\n",
        "celsius_temperatures = [0, 10, 20, 30, 40]\n",
        "\n",
        "# Using map() to convert each temperature to Fahrenheit\n",
        "fahrenheit_temperatures = list(map(celsius_to_fahrenheit, celsius_temperatures))\n",
        "\n",
        "# Output the Fahrenheit temperatures\n",
        "print(fahrenheit_temperatures)\n"
      ],
      "metadata": {
        "colab": {
          "base_uri": "https://localhost:8080/"
        },
        "id": "vXeN5u5rVlSV",
        "outputId": "ea9d2614-4dcd-48f1-8b93-f5f83ee068ec"
      },
      "execution_count": null,
      "outputs": [
        {
          "output_type": "stream",
          "name": "stdout",
          "text": [
            "[32.0, 50.0, 68.0, 86.0, 104.0]\n"
          ]
        }
      ]
    },
    {
      "cell_type": "code",
      "source": [
        "'''11. Imagine an accounting routine used in a book shop. It works on a list with sublists, which look like this:\n",
        " Write a Python program, which returns a list with 2-tuples. Each tuple consists of the order number and the\n",
        "product of the price per item and the quantity. The product should be increased by 10,- € if the value of the\n",
        "order is smaller than 100,00 €.\n",
        " Write a Python program using lambda and map'''\n",
        "#->\n",
        "data = [\n",
        "    [34587, \"Learning Python, Mark Lutz\", 4, 40.95],\n",
        "    [98762, \"Programming Python, Mark Lutz\", 5, 56.80],\n",
        "    [77226, \"Head First Python, Paul Barry\", 3, 32.95],\n",
        "    [88112, \"Einführung in Python3, Bernd Klein\", 3, 24.99]\n",
        "]\n",
        "\n",
        "def calculate_order_value(order):\n",
        "  \"\"\"Calculates the order value and adds 10 if it's less than 100.\"\"\"\n",
        "  order_number, _, quantity, price_per_item = order\n",
        "  product = quantity * price_per_item\n",
        "  if product < 100:\n",
        "    product += 10\n",
        "  return (order_number, product)\n",
        "\n",
        "result = list(map(calculate_order_value, data))\n",
        "print(result)"
      ],
      "metadata": {
        "colab": {
          "base_uri": "https://localhost:8080/"
        },
        "id": "bvM8YHm9Vvr7",
        "outputId": "a8c087ac-41c2-4ca9-bd0c-83fe013def07"
      },
      "execution_count": null,
      "outputs": [
        {
          "output_type": "stream",
          "name": "stdout",
          "text": [
            "[(34587, 163.8), (98762, 284.0), (77226, 108.85000000000001), (88112, 84.97)]\n"
          ]
        }
      ]
    }
  ]
}